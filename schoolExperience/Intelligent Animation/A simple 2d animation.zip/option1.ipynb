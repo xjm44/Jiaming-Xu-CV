{
 "cells": [
  {
   "cell_type": "code",
   "execution_count": 1,
   "metadata": {},
   "outputs": [],
   "source": [
    "import sys\n",
    "import os\n",
    "import cv2\n",
    "import numpy as np\n",
    "import random\n",
    "from matplotlib import pyplot as plt\n",
    "from imageio import imread\n",
    "from IPython.display import clear_output\n",
    "%matplotlib inline"
   ]
  },
  {
   "cell_type": "code",
   "execution_count": 2,
   "metadata": {},
   "outputs": [],
   "source": [
    "home = './home.mov'\n",
    "playground = './playground.mov'\n",
    "school = './school.mov' \n",
    "monkey = './monkey.mov'"
   ]
  },
  {
   "cell_type": "code",
   "execution_count": 3,
   "metadata": {},
   "outputs": [],
   "source": [
    "home_frame = './homeframes/'\n",
    "pg_frame = './pgframes/'\n",
    "sch_frame = './schframes/'"
   ]
  },
  {
   "cell_type": "code",
   "execution_count": 4,
   "metadata": {},
   "outputs": [],
   "source": [
    "def create_dir_if_not_exists(directory):\n",
    "    if not os.path.exists(directory):\n",
    "        os.makedirs(directory)\n"
   ]
  },
  {
   "cell_type": "code",
   "execution_count": 5,
   "metadata": {},
   "outputs": [
    {
     "name": "stdout",
     "output_type": "stream",
     "text": [
      "411\n"
     ]
    }
   ],
   "source": [
    "## home ##\n",
    "cap = cv2.VideoCapture(home)\n",
    "create_dir_if_not_exists(home_frame) # Or you can create it manully\n",
    "if not cap.isOpened():\n",
    "    print('{} not opened'.format(home_frame))\n",
    "    sys.exit(1)\n",
    "time_length = int(cap.get(cv2.CAP_PROP_FRAME_COUNT))\n",
    "frame_height = cap.get(cv2.CAP_PROP_FRAME_HEIGHT)\n",
    "frame_width = cap.get(cv2.CAP_PROP_FRAME_WIDTH)\n",
    "frame_counter = 0                                             # FRAME_COUNTER\n",
    "while(frame_counter < 411):\n",
    "    return_flag, frame = cap.read()  \n",
    "    if not return_flag:\n",
    "        print('Video Reach End')\n",
    "        break\n",
    "    # Main Content - Start\n",
    "#     cv2.imshow('VideoWindowTitle-Quadrangle', frame)\n",
    "    \n",
    "    cv2.imwrite(home_frame + 'frame%d.tif' % frame_counter, frame)\n",
    "    frame_counter += 1\n",
    "    print(frame_counter)\n",
    "    clear_output(wait=True)\n",
    "    # Main Content - End    \n",
    "    if cv2.waitKey(30) & 0xff == ord('q'):\n",
    "        break\n",
    "cap.release()\n",
    "cv2.destroyAllWindows()\n",
    "homectr = frame_counter\n",
    "print(homectr)"
   ]
  },
  {
   "cell_type": "code",
   "execution_count": 6,
   "metadata": {},
   "outputs": [
    {
     "name": "stdout",
     "output_type": "stream",
     "text": [
      "Video Reach End\n",
      "454\n"
     ]
    }
   ],
   "source": [
    "## playground ##\n",
    "cap = cv2.VideoCapture(playground)\n",
    "create_dir_if_not_exists(pg_frame) # Or you can create it manully\n",
    "if not cap.isOpened():\n",
    "    print('{} not opened'.format(pg_frame))\n",
    "    sys.exit(1)\n",
    "time_length = int(cap.get(cv2.CAP_PROP_FRAME_COUNT))\n",
    "frame_height = cap.get(cv2.CAP_PROP_FRAME_HEIGHT)\n",
    "frame_width = cap.get(cv2.CAP_PROP_FRAME_WIDTH)\n",
    "frame_counter = 0                                             # FRAME_COUNTER\n",
    "while(1):\n",
    "    return_flag, frame = cap.read()  \n",
    "    if not return_flag:\n",
    "        print('Video Reach End')\n",
    "        break\n",
    "    # Main Content - Start\n",
    "#     cv2.imshow('VideoWindowTitle-Quadrangle', frame)\n",
    "    \n",
    "    cv2.imwrite(pg_frame + 'frame%d.tif' % frame_counter, frame)\n",
    "    frame_counter += 1\n",
    "    print(frame_counter)\n",
    "    clear_output(wait=True)\n",
    "    # Main Content - End    \n",
    "    if cv2.waitKey(30) & 0xff == ord('q'):\n",
    "        break\n",
    "cap.release()\n",
    "cv2.destroyAllWindows()\n",
    "pgctr = frame_counter\n",
    "print(pgctr)"
   ]
  },
  {
   "cell_type": "code",
   "execution_count": 7,
   "metadata": {},
   "outputs": [
    {
     "name": "stdout",
     "output_type": "stream",
     "text": [
      "Video Reach End\n",
      "92\n"
     ]
    }
   ],
   "source": [
    "## school ##\n",
    "cap = cv2.VideoCapture(school)\n",
    "create_dir_if_not_exists(sch_frame) # Or you can create it manully\n",
    "if not cap.isOpened():\n",
    "    print('{} not opened'.format(sch_frame))\n",
    "    sys.exit(1)\n",
    "time_length = int(cap.get(cv2.CAP_PROP_FRAME_COUNT))\n",
    "frame_height = cap.get(cv2.CAP_PROP_FRAME_HEIGHT)\n",
    "frame_width = cap.get(cv2.CAP_PROP_FRAME_WIDTH)\n",
    "frame_counter = 0                                             # FRAME_COUNTER\n",
    "while(1):\n",
    "    return_flag, frame = cap.read()  \n",
    "    if not return_flag:\n",
    "        print('Video Reach End')\n",
    "        break\n",
    "    # Main Content - Start\n",
    "#     cv2.imshow('VideoWindowTitle-Quadrangle', frame)\n",
    "    \n",
    "    cv2.imwrite(sch_frame + 'frame%d.tif' % frame_counter, frame)\n",
    "    frame_counter += 1\n",
    "    print(frame_counter)\n",
    "    clear_output(wait=True)\n",
    "    # Main Content - End    \n",
    "    if cv2.waitKey(30) & 0xff == ord('q'):\n",
    "        break\n",
    "cap.release()\n",
    "cv2.destroyAllWindows()\n",
    "schctr = frame_counter\n",
    "print(schctr)"
   ]
  },
  {
   "cell_type": "code",
   "execution_count": null,
   "metadata": {},
   "outputs": [],
   "source": []
  },
  {
   "cell_type": "code",
   "execution_count": 5,
   "metadata": {},
   "outputs": [
    {
     "data": {
      "image/png": "[encoded data removed]",
      "text/plain": [
       "<Figure size 432x288 with 1 Axes>"
      ]
     },
     "metadata": {
      "needs_background": "light"
     },
     "output_type": "display_data"
    }
   ],
   "source": [
    "boy = np.array(imread('./boy.jpg'))\n",
    "\n",
    "\n",
    "#### right foot #####\n",
    "# color = (255,0,0)\n",
    "# for x in range(600,810):\n",
    "#     for y in range(320,390):\n",
    "#         for i in range(3):\n",
    "#             boy[x][y][i] = color[i]\n",
    "\n",
    "#### left foot #####\n",
    "# color = (255,0,0)\n",
    "# for x in range(600,810):\n",
    "#     for y in range(420,490):\n",
    "#         for i in range(3):\n",
    "#             boy[x][y][i] = color[i]\n",
    "\n",
    "#### right hand #####\n",
    "# color = (255,0,0)\n",
    "# for x in range(380,540):\n",
    "#     for y in range(220,300):\n",
    "#         for i in range(3):\n",
    "#             boy[x][y][i] = color[i]\n",
    "\n",
    "#### left hand #####\n",
    "# color = (255,0,0)\n",
    "# for x in range(310,400):\n",
    "#     for y in range(525,680):\n",
    "#         for i in range(3):\n",
    "#             boy[x][y][i] = color[i]\n",
    "\n",
    "#### body #####\n",
    "# color = (255,0,0)\n",
    "# for x in range(28,540):\n",
    "#     for y in range(280,550):\n",
    "#         for i in range(3):\n",
    "#             boy[x][y][i] = color[i]\n",
    "\n",
    "plt.figure(1)\n",
    "plt.imshow(boy)\n",
    "plt.show()\n"
   ]
  },
  {
   "cell_type": "code",
   "execution_count": 6,
   "metadata": {},
   "outputs": [
    {
     "data": {
      "image/png": "[encoded data removed]",
      "text/plain": [
       "<Figure size 432x288 with 1 Axes>"
      ]
     },
     "metadata": {
      "needs_background": "light"
     },
     "output_type": "display_data"
    }
   ],
   "source": [
    "cat = np.array(imread('./cat.jpg'))\n",
    "#### tail #####\n",
    "# color = (255,0,0)\n",
    "# for x in range(120,160):\n",
    "#     for y in range(120,185):\n",
    "#         for i in range(3):\n",
    "#             cat[x][y][i] = color[i]\n",
    "\n",
    "def catlimb():\n",
    "    for x in range(220,260):\n",
    "        for y in range(30,150):\n",
    "            if cat[x][y][0] != 255 and cat[x][y][1] != 255 and cat[x][y][2] != 255:\n",
    "                cat[x-40][y] = cat[x][y]\n",
    "                for i in range(3):\n",
    "                    cat[x][y][i] = 255\n",
    "\n",
    "def cathead():\n",
    "    for x in range(0,120):\n",
    "        for y in range(0,150):\n",
    "            if cat[x][y][0] != 255 and cat[x][y][1] != 255 and cat[x][y][2] != 255:\n",
    "                cat[x+100][y] = cat[x][y]\n",
    "                for i in range(3):\n",
    "                    cat[x][y][i] = 255\n",
    "def cattail():\n",
    "    for x in range(120,240):\n",
    "        for y in range(121,190):\n",
    "            if cat[x][y][0] != 255 and cat[x][y][1] != 255 and cat[x][y][2] != 255:\n",
    "    #             cat[x][y] = cat[x][y]\n",
    "                for i in range(3):\n",
    "                    cat[x][y][i] = 255\n",
    "\n",
    "plt.figure(1)\n",
    "plt.imshow(cat)\n",
    "plt.show()\n"
   ]
  },
  {
   "cell_type": "code",
   "execution_count": 7,
   "metadata": {},
   "outputs": [
    {
     "data": {
      "image/png": "[encoded data removed]",
      "text/plain": [
       "<Figure size 432x288 with 1 Axes>"
      ]
     },
     "metadata": {
      "needs_background": "light"
     },
     "output_type": "display_data"
    }
   ],
   "source": [
    "monster = np.array(imread('./monster.jpg'))\n",
    "#### hair #####\n",
    "# for x in range(250,410):\n",
    "#     for y in range(20,100):\n",
    "#         monster[x-90][y] = monster[x][y]\n",
    "#         for i in range(3):\n",
    "#             monster[x][y][i] = 255\n",
    "# for x in range(250,410):\n",
    "#     for y in range(410,500):\n",
    "#         monster[x-90][y] = monster[x][y]\n",
    "#         for i in range(3):\n",
    "#             monster[x][y][i] = 255\n",
    "\n",
    "def monhead():\n",
    "    for x in range(10,70):\n",
    "        for y in range(50,450):\n",
    "            monster[x+30][y] = monster[x][y]\n",
    "            for i in range(3):\n",
    "                monster[x][y][i] = 255\n",
    "\n",
    "def monhand():\n",
    "    for x in range(250,410):\n",
    "        for y in range(20,100):\n",
    "            monster[x-90][y] = monster[x][y]\n",
    "            for i in range(3):\n",
    "                monster[x][y][i] = 255\n",
    "    for x in range(250,410):\n",
    "        for y in range(410,500):\n",
    "            monster[x-90][y] = monster[x][y]\n",
    "            for i in range(3):\n",
    "                monster[x][y][i] = 255\n",
    "def monfeet():\n",
    "    for x in range(440,500):\n",
    "        for y in range(120,380):\n",
    "            monster[x-60][y] = monster[x][y]\n",
    "            for i in range(3):\n",
    "                monster[x][y][i] = 255\n",
    "plt.figure(1)\n",
    "plt.imshow(monster)\n",
    "plt.show()\n"
   ]
  },
  {
   "cell_type": "code",
   "execution_count": null,
   "metadata": {},
   "outputs": [],
   "source": []
  },
  {
   "cell_type": "code",
   "execution_count": 11,
   "metadata": {},
   "outputs": [
    {
     "name": "stdout",
     "output_type": "stream",
     "text": [
      "Video Reach End\n",
      "945\n"
     ]
    }
   ],
   "source": [
    "# convert monkey video to images\n",
    "cap = cv2.VideoCapture(monkey)\n",
    "create_dir_if_not_exists('./monkey/') # Or you can create it manully\n",
    "if not cap.isOpened():\n",
    "    print('{} not opened'.format(monkey))\n",
    "    sys.exit(1)\n",
    "time_length = int(cap.get(cv2.CAP_PROP_FRAME_COUNT))\n",
    "frame_height = cap.get(cv2.CAP_PROP_FRAME_HEIGHT)\n",
    "frame_width = cap.get(cv2.CAP_PROP_FRAME_WIDTH)\n",
    "frame_counter = 0                                             # FRAME_COUNTER\n",
    "while(1):\n",
    "    return_flag, frame = cap.read()  \n",
    "    if not return_flag:\n",
    "        print('Video Reach End')\n",
    "        break\n",
    "    # Main Content - Start\n",
    "#     cv2.imshow('VideoWindowTitle-Quadrangle', frame)\n",
    "    \n",
    "    cv2.imwrite('./monkey/' + 'frame%d.tif' % frame_counter, frame)\n",
    "    frame_counter += 1\n",
    "    print(frame_counter)\n",
    "    clear_output(wait=True)\n",
    "    # Main Content - End    \n",
    "    if cv2.waitKey(30) & 0xff == ord('q'):\n",
    "        break\n",
    "cap.release()\n",
    "cv2.destroyAllWindows()\n",
    "xx = frame_counter\n",
    "print(xx)"
   ]
  },
  {
   "cell_type": "code",
   "execution_count": 28,
   "metadata": {},
   "outputs": [
    {
     "name": "stdout",
     "output_type": "stream",
     "text": [
      "944\n"
     ]
    }
   ],
   "source": [
    "\n",
    "### monkey coordinates ##\n",
    "i = 0\n",
    "threshhold = 12\n",
    "red = 200\n",
    "\n",
    "coord = [] # store coordinates\n",
    "checkx = [] # store each pixel x position\n",
    "checky = [] # store each pixel y position\n",
    "\n",
    "while i < 945:\n",
    "    m = cv2.imread('./monkey/frame%d.tif' % (i))    #every frame\n",
    "    l = [] \n",
    "    for x in range(m.shape[0]):\n",
    "        for y in range(m.shape[1]):\n",
    "            if m[x][y][0]<90:\n",
    "                if m[x][y][2] > red:\n",
    "                    # first pixel detected\n",
    "                    if len(checkx) == 0:\n",
    "                        if len(checky) == 0:\n",
    "                            checkx.append(x)\n",
    "                            checky.append(y)\n",
    "                            ll = []\n",
    "                            ll.append(x)\n",
    "                            ll.append(y)\n",
    "                            l.append(ll)\n",
    "                    # remaining pixels to be detected\n",
    "                    elif len(checkx) != 0:\n",
    "                        # to remove neighbour pixels\n",
    "                        if  x >= checkx[0] + threshhold or y >= checky[0]+threshhold :\n",
    "                            checkx.clear()\n",
    "                            checky.clear()\n",
    "                            checkx.append(x)\n",
    "                            checky.append(y)\n",
    "                            ll = []\n",
    "                            ll.append(x)\n",
    "                            ll.append(y)\n",
    "                            l.append(ll)\n",
    "\n",
    "    print(i)\n",
    "    coord.append(l)\n",
    "    clear_output(wait=True)\n",
    "    i +=1\n",
    "cv2.destroyAllWindows()    \n",
    "\n",
    "\n"
   ]
  },
  {
   "cell_type": "code",
   "execution_count": 29,
   "metadata": {},
   "outputs": [],
   "source": [
    "# make exact 5 coordinates per monkey frame\n",
    "for i in range(len(coord)):\n",
    "    if len(coord[i]) > 5:\n",
    "        a = coord[i][0]\n",
    "        b= coord[i][1]\n",
    "        c = coord[i][2]\n",
    "        d=coord[i][len(coord[i])-2]\n",
    "        e=coord[i][len(coord[i])-1]\n",
    "        ll=[]\n",
    "        ll.append(a)\n",
    "        ll.append(b)\n",
    "        ll.append(c)\n",
    "        ll.append(d)\n",
    "        ll.append(e)\n",
    "        coord[i] = ll\n",
    "for i in coord:\n",
    "    if len(i)>5:\n",
    "        print('gg')"
   ]
  },
  {
   "cell_type": "code",
   "execution_count": 30,
   "metadata": {},
   "outputs": [
    {
     "name": "stdout",
     "output_type": "stream",
     "text": [
      "86\n"
     ]
    }
   ],
   "source": [
    "\n",
    "c= 0\n",
    "for i in coord:\n",
    "    if len(i)<5:\n",
    "        c+=1\n",
    "print(c)"
   ]
  },
  {
   "cell_type": "code",
   "execution_count": 31,
   "metadata": {},
   "outputs": [
    {
     "ename": "IndexError",
     "evalue": "index 840 is out of bounds for axis 0 with size 840",
     "output_type": "error",
     "traceback": [
      "\u001b[1;31m---------------------------------------------------------------------------\u001b[0m",
      "\u001b[1;31mIndexError\u001b[0m                                Traceback (most recent call last)",
      "\u001b[1;32m<ipython-input-31-d0372c7b4375>\u001b[0m in \u001b[0;36m<module>\u001b[1;34m\u001b[0m\n\u001b[0;32m     69\u001b[0m             \u001b[1;32mfor\u001b[0m \u001b[0my\u001b[0m \u001b[1;32min\u001b[0m \u001b[0mrange\u001b[0m\u001b[1;33m(\u001b[0m\u001b[1;36m60\u001b[0m\u001b[1;33m)\u001b[0m\u001b[1;33m:\u001b[0m\u001b[1;33m\u001b[0m\u001b[1;33m\u001b[0m\u001b[0m\n\u001b[0;32m     70\u001b[0m                 \u001b[1;32mif\u001b[0m \u001b[0mx\u001b[0m \u001b[1;33m+\u001b[0m \u001b[0mxx\u001b[0m  \u001b[1;33m<\u001b[0m \u001b[0mm\u001b[0m\u001b[1;33m.\u001b[0m\u001b[0mshape\u001b[0m\u001b[1;33m[\u001b[0m\u001b[1;36m0\u001b[0m\u001b[1;33m]\u001b[0m \u001b[1;32mand\u001b[0m \u001b[0my\u001b[0m \u001b[1;33m+\u001b[0m \u001b[0myy\u001b[0m  \u001b[1;33m<\u001b[0m \u001b[0mm\u001b[0m\u001b[1;33m.\u001b[0m\u001b[0mshape\u001b[0m\u001b[1;33m[\u001b[0m\u001b[1;36m1\u001b[0m\u001b[1;33m]\u001b[0m\u001b[1;33m:\u001b[0m\u001b[1;33m\u001b[0m\u001b[1;33m\u001b[0m\u001b[0m\n\u001b[1;32m---> 71\u001b[1;33m                     \u001b[1;32mif\u001b[0m \u001b[0mboy\u001b[0m\u001b[1;33m[\u001b[0m\u001b[0mx\u001b[0m\u001b[1;33m+\u001b[0m\u001b[1;36m710\u001b[0m\u001b[1;33m,\u001b[0m\u001b[0my\u001b[0m\u001b[1;33m+\u001b[0m\u001b[1;36m320\u001b[0m\u001b[1;33m,\u001b[0m\u001b[1;36m0\u001b[0m\u001b[1;33m]\u001b[0m \u001b[1;33m!=\u001b[0m \u001b[1;36m255\u001b[0m \u001b[1;32mand\u001b[0m \u001b[0mboy\u001b[0m\u001b[1;33m[\u001b[0m\u001b[0mx\u001b[0m\u001b[1;33m+\u001b[0m\u001b[1;36m710\u001b[0m\u001b[1;33m,\u001b[0m\u001b[0my\u001b[0m\u001b[1;33m+\u001b[0m\u001b[1;36m320\u001b[0m\u001b[1;33m,\u001b[0m\u001b[1;36m1\u001b[0m\u001b[1;33m]\u001b[0m \u001b[1;33m!=\u001b[0m \u001b[1;36m255\u001b[0m \u001b[1;32mand\u001b[0m \u001b[0mboy\u001b[0m\u001b[1;33m[\u001b[0m\u001b[0mx\u001b[0m\u001b[1;33m+\u001b[0m\u001b[1;36m710\u001b[0m\u001b[1;33m,\u001b[0m\u001b[0my\u001b[0m\u001b[1;33m+\u001b[0m\u001b[1;36m320\u001b[0m\u001b[1;33m,\u001b[0m\u001b[1;36m2\u001b[0m\u001b[1;33m]\u001b[0m \u001b[1;33m!=\u001b[0m \u001b[1;36m255\u001b[0m \u001b[1;33m:\u001b[0m\u001b[1;33m\u001b[0m\u001b[1;33m\u001b[0m\u001b[0m\n\u001b[0m\u001b[0;32m     72\u001b[0m                         \u001b[0mm\u001b[0m\u001b[1;33m[\u001b[0m\u001b[0mx\u001b[0m\u001b[1;33m+\u001b[0m\u001b[0mxx\u001b[0m\u001b[1;33m-\u001b[0m\u001b[1;36m20\u001b[0m\u001b[1;33m,\u001b[0m\u001b[0my\u001b[0m\u001b[1;33m+\u001b[0m\u001b[0myy\u001b[0m\u001b[1;33m]\u001b[0m \u001b[1;33m=\u001b[0m \u001b[0mboy\u001b[0m\u001b[1;33m[\u001b[0m\u001b[0mx\u001b[0m\u001b[1;33m+\u001b[0m\u001b[1;36m710\u001b[0m\u001b[1;33m,\u001b[0m\u001b[0my\u001b[0m\u001b[1;33m+\u001b[0m\u001b[1;36m320\u001b[0m\u001b[1;33m]\u001b[0m\u001b[1;33m\u001b[0m\u001b[1;33m\u001b[0m\u001b[0m\n\u001b[0;32m     73\u001b[0m \u001b[1;33m\u001b[0m\u001b[0m\n",
      "\u001b[1;31mIndexError\u001b[0m: index 840 is out of bounds for axis 0 with size 840"
     ]
    }
   ],
   "source": [
    "# replace monkey with Sam (boy)\n",
    "index1 = 0\n",
    "cc = 0\n",
    "while index1 < len(coord):\n",
    "    boy = np.array(imread('./boy.jpg'))\n",
    "    m = cv2.imread('./monkey/frame%d.tif' % (index1)) \n",
    "    # make monkey frame to white background\n",
    "    for x in range(m.shape[0]):\n",
    "        for y in range(m.shape[1]):\n",
    "            m[x][y][0] = 255\n",
    "            m[x][y][1] = 255\n",
    "            m[x][y][2] = 255\n",
    "        \n",
    "    # replace the 5 monkey's individual position with Same\n",
    "    if len(coord[index1]) == 5:\n",
    "        a = coord[index1][0]\n",
    "        b = coord[index1][1]\n",
    "        c = coord[index1][2]\n",
    "        ay = a[1]\n",
    "        by = b[1]\n",
    "        cy = c[1]\n",
    "        rhl = []\n",
    "        rhl.append(ay)\n",
    "        rhl.append(by)\n",
    "        rhl.append(cy)\n",
    "        rh = 11111\n",
    "        for z in rhl:\n",
    "            if z<rh:\n",
    "                rh = z\n",
    "        xp = 0\n",
    "        for zz in coord[index1]:\n",
    "            if zz[1] == rh:\n",
    "                xp = zz[0]\n",
    "                break\n",
    "        first = [xp,rh]\n",
    "        no = coord[index1].index(first)\n",
    "        # rearrange so that Sam' right hand as the first to replace\n",
    "        coord[index1][0], coord[index1][no] = coord[index1][no], coord[index1][0]\n",
    "        \n",
    "        # right hand to body to left hand to right leg to left leg\n",
    "        \n",
    "        xx = coord[index1][0][0]\n",
    "        yy = coord[index1][0][1]\n",
    "        # right hand\n",
    "        for x in range(160):\n",
    "            for y in range(80):\n",
    "                if x + xx  < m.shape[0] and y + yy  < m.shape[1]:\n",
    "#                     if\n",
    "                    if boy[x+380,y+220,0] != 255 and boy[x+380,y+220,1] != 255 and boy[x+380,y+220,2] != 255 :\n",
    "                        m[x+xx,y+yy] = boy[x+380,y+220]\n",
    "\n",
    "                        m[x+xx,y+yy,2] = 80\n",
    "\n",
    "        xx = coord[index1][1][0]\n",
    "        yy = coord[index1][1][1]\n",
    "        # #left hand\n",
    "\n",
    "        for x in range(400):\n",
    "            for y in range(680):\n",
    "                if x + xx  < m.shape[0] and y + yy  < m.shape[1]:\n",
    "                    if boy[x+310,y+525,0] != 255 and boy[x+310,y+525,1] != 255 and boy[x+310,y+525,2] != 255 :\n",
    "                        m[x+xx,y+yy] = boy[x+310,y+525]\n",
    "\n",
    "\n",
    "        #### right foot #####\n",
    "        xx = coord[index1][3][0]\n",
    "        yy = coord[index1][3][1]\n",
    "        for x in range(330):\n",
    "            for y in range(60):\n",
    "                if x + xx  < m.shape[0] and y + yy  < m.shape[1]:\n",
    "                    if boy[x+710,y+320,0] != 255 and boy[x+710,y+320,1] != 255 and boy[x+710,y+320,2] != 255 :\n",
    "                        m[x+xx-20,y+yy] = boy[x+710,y+320]\n",
    "\n",
    "\n",
    "\n",
    "        #### left foot #####\n",
    "        xx = coord[index1][4][0]\n",
    "        yy = coord[index1][4][1]\n",
    "        for x in range(330):\n",
    "            for y in range(60):\n",
    "                if x + xx  < m.shape[0] and y + yy  < m.shape[1]:\n",
    "                    if boy[x+710,y+420,0] != 255 and boy[x+710,y+420,1] != 255 and boy[x+710,y+420,2] != 255 :\n",
    "                        m[x+xx-20,y+yy] = boy[x+710,y+420]\n",
    "                        \n",
    "        # # # #### body #####\n",
    "        xx = coord[index1][2][0]\n",
    "        yy = coord[index1][2][1]\n",
    "        boy = cv2.resize(boy, (568,320))\n",
    "        for x in range(200):\n",
    "            for y in range(100):\n",
    "                if x + xx  < m.shape[0] and y + yy  < m.shape[1]:\n",
    "                    if boy[x,y+200,0] != 255 and boy[x,y+200,1] != 255 and boy[x,y+200,2] != 255 :\n",
    "                        m[x+xx-50,y+yy-20] = boy[x,y+200]\n",
    "\n",
    "        cv2.imwrite('./monkey123/frame%d.tif' % (cc), m)  # put the replaced images into a new folder\n",
    "        cc+=1\n",
    "    print(index1)\n",
    "    clear_output(wait=True)\n",
    "    index1 += 1"
   ]
  },
  {
   "cell_type": "code",
   "execution_count": 32,
   "metadata": {},
   "outputs": [
    {
     "name": "stdout",
     "output_type": "stream",
     "text": [
      "415\n"
     ]
    }
   ],
   "source": [
    "print(cc)"
   ]
  },
  {
   "cell_type": "code",
   "execution_count": 17,
   "metadata": {},
   "outputs": [
    {
     "name": "stdout",
     "output_type": "stream",
     "text": [
      "testzz already exists\n",
      "0\n"
     ]
    }
   ],
   "source": [
    "if not os.path.isdir(os.path.join(os.getcwd(), 'testzz')):\n",
    "    os.mkdir(\"testzz\")\n",
    "else:\n",
    "    print('testzz already exists')\n",
    "\n",
    "\n",
    "## compositing ##\n",
    "\n",
    "BLUE = 90\n",
    "caught = 0\n",
    "ccc = 0 # collision counter\n",
    "timer = 0 # total frame \n",
    "xcc = 0 # arrange monster x position in the framez\n",
    "ycc = 0 # arrange monster y position in the frame\n",
    "xc = 0 # arrange cat x position in the frame\n",
    "yc = 0 # arrange cat x position in the frame\n",
    "bgi = 0 # background index\n",
    "monstart = True\n",
    "while(timer < 2000):\n",
    "\n",
    "    # all of the backgrounds (dynamic)\n",
    "    homef = cv2.imread('homeframes/frame%d.tif' % (timer%411))    #every frame\n",
    "    pgf = cv2.imread('pgframes/frame%d.tif' % (timer%454))    #every frame\n",
    "    schf = cv2.imread('schframes/frame%d.tif' % (timer%92))    #every frame\n",
    "    # list to store backgrounds\n",
    "    bggg = [homef,pgf,schf]\n",
    "    bg = bggg[bgi]\n",
    "    \n",
    "    # monkey\n",
    "    monkeyframe = cv2.imread('./monkey123/frame%d.tif' % (timer%415))    #every frame\n",
    "\n",
    "    \n",
    "    cv2.putText(bg, text='SID480565903_Asgmt2Opt1', org=(0, 22), fontFace=cv2.FONT_HERSHEY_DUPLEX, fontScale=1, thickness = 1, color=(0, 0, 255))\n",
    "#     cv2.putText(bg, text='Caught!!', org=(80, 322), fontFace=cv2.FONT_HERSHEY_DUPLEX, fontScale=1, thickness = 2, color=(0, 255, 0))\n",
    "          \n",
    "    # Sam position relative to the monkey\n",
    "    monkeypos = [] # used for the collision with the rest\n",
    "    for x in range(monkeyframe.shape[0]):\n",
    "        for y in range(monkeyframe.shape[1]):\n",
    "              \n",
    "            if monkeyframe[x][y][0]!=255 and monkeyframe[x][y][1]!=255 and monkeyframe[x][y][2]!=255:\n",
    "\n",
    "                x_prop = x/576\n",
    "                y_prop = y/650\n",
    "                xpos = int(x_prop * 320)\n",
    "                ypos = int(y_prop * 480)\n",
    "\n",
    "                bg[xpos][ypos][0] = monkeyframe[x][y][0]\n",
    "                bg[xpos][ypos][1] = monkeyframe[x][y][1]\n",
    "                bg[xpos][ypos][2] = monkeyframe[x][y][2]\n",
    "\n",
    "                v = []\n",
    "                v.append(xpos)\n",
    "                v.append(ypos)\n",
    "                if v not in monkeypos:\n",
    "                    monkeypos.append(v)\n",
    "\n",
    "\n",
    "    \n",
    "    ## set a timer for the cat/monster movement\n",
    "    if timer % 3 ==0:\n",
    "        # random behaviours of the side characters\n",
    "        a = random.randint(1,3) \n",
    "        if a == 1:\n",
    "            cattail()\n",
    "            monhead()\n",
    "        elif a == 2:\n",
    "            cathead()\n",
    "            monhand()\n",
    "        elif a == 3:\n",
    "            catlimb()\n",
    "            monfeet()\n",
    "    if timer % 2 ==0:\n",
    "        cat = np.array(imread('./cat.jpg'))\n",
    "        monster = np.array(imread('./monster.jpg'))\n",
    "    \n",
    "    \n",
    "    # cat #\n",
    "    # cat's random postion in the video  \n",
    "    iii = random.randint(100,230) \n",
    "    jjj = random.randint(240,480) \n",
    "\n",
    "\n",
    "    catpos = []# used for the collision with the rest\n",
    "    for x in range(cat.shape[0]):\n",
    "        for y in range(cat.shape[1]):\n",
    "            if cat[x][y][0] != 255 and cat[x][y][1] != 255 and cat[x][y][2] != 255:\n",
    "                x_prop = x/260\n",
    "                y_prop = y/192\n",
    "                # move per second\n",
    "                if timer % 33 ==0:\n",
    "                    xpos = int(x_prop * 48) + iii\n",
    "                    ypos = int(y_prop * 40) + jjj\n",
    "                    xc = iii\n",
    "                    yc = jjj\n",
    "                    if xpos > bg.shape[0]:\n",
    "                        xpos = bg.shape[0] - 1\n",
    "                    if ypos > bg.shape[1]:\n",
    "                        ypos = bg.shape[1] - 1\n",
    "                    v = []\n",
    "                    v.append(xpos)\n",
    "                    v.append(ypos)\n",
    "                    if v not in catpos:\n",
    "                        catpos.append(v)\n",
    "                        \n",
    "                # stay in the same pos\n",
    "                elif timer % 33 != 0:\n",
    "                    xpos = int(x_prop * 48) +xc\n",
    "                    ypos = int(y_prop * 40) +yc\n",
    "                \n",
    "                    if xpos > bg.shape[0]:\n",
    "                        xpos = bg.shape[0] - 1\n",
    "                    if ypos > bg.shape[1]:\n",
    "                        ypos = bg.shape[1] - 1\n",
    "                \n",
    "                bg[xpos][ypos] = cat[x][y]\n",
    "    \n",
    "    # Sam and cat go to school\n",
    "    if timer == 200:\n",
    "        bgi = 2\n",
    "    \n",
    "    # when Sam and cat go to school\n",
    "    monpos = []# used for the collision with the rest\n",
    "    if timer >= 210 and bgi != 0:\n",
    "        # monster #\n",
    "        mm = random.randint(190,225) \n",
    "        mmm = random.randint(90,260) \n",
    "        \n",
    "        for x in range(monster.shape[0]):\n",
    "            for y in range(monster.shape[1]):\n",
    "                if monster[x][y][0] != 255 and monster[x][y][1] != 255 and monster[x][y][2] != 255:\n",
    "                    x_prop = x/512\n",
    "                    y_prop = y/512\n",
    "                    # move per second\n",
    "                    if timer%33 == 0 or monstart:\n",
    "                        xpos = int(x_prop * 80) +mm\n",
    "                        ypos = int(y_prop * 80) +mmm\n",
    "                        if xpos > bg.shape[0]:\n",
    "                            xpos = bg.shape[0] - 1\n",
    "                        if ypos > bg.shape[1]:\n",
    "                            ypos = bg.shape[1] - 1\n",
    "                        xcc = mm\n",
    "                        ycc = mmm\n",
    "                        v = []\n",
    "                        v.append(xpos)\n",
    "                        v.append(ypos) \n",
    "                        if v not in monpos:\n",
    "                            monpos.append(v)\n",
    "                        monstart = False\n",
    "                    # stay in the same pos\n",
    "                    elif timer%33 != 0:\n",
    "                        xpos = int(x_prop * 80) + xcc\n",
    "                        ypos = int(y_prop * 80) + ycc\n",
    "                        if xpos > bg.shape[0]:\n",
    "                            xpos = bg.shape[0] - 1\n",
    "                        if ypos > bg.shape[1]:\n",
    "                            ypos = bg.shape[1] - 1\n",
    "\n",
    "                    bg[xpos][ypos] = monster[x][y]\n",
    "\n",
    "    # check if monster touches cat#      \n",
    "    for z in catpos:\n",
    "        if z in monpos:\n",
    "            ccc+=1\n",
    "            bgi = 0\n",
    "            break\n",
    "        # if cat touches Sam\n",
    "        if z in monkeypos and bgi!=0:\n",
    "            bgi =1\n",
    "            break\n",
    "            \n",
    "    # check if monster touches Sam# \n",
    "    for c in monkeypos:\n",
    "        if c in monpos:\n",
    "            ccc+=1\n",
    "            bgi = 0\n",
    "            break\n",
    "    \n",
    "    # monster failed to catch them within 15s\n",
    "    if timer == 500 and ccc ==0:\n",
    "        bgi = 1\n",
    "    \n",
    "    # if caught by monster\n",
    "    if ccc >0:\n",
    "        bgi = 0\n",
    "        caught+=1\n",
    "    # word appears to show the collision   \n",
    "    if caught != 0 and caught< 28:\n",
    "        cv2.putText(bg, text='Caught!!', org=(60, 300), fontFace=cv2.FONT_HERSHEY_DUPLEX, fontScale=1, thickness = 2, color=(0, 250, 0))\n",
    "    if caught == 26:\n",
    "        caught = 0\n",
    "        ccc=0\n",
    "            #########################################\n",
    "    cv2.imwrite('testzz/composite%d.tif' % timer, bg)\n",
    "    cv2.putText(img=bg, text='Compositing: %d%%' % int(100*timer/2000), org=(int(0), int(bg.shape[1] / 2)),\n",
    "                fontFace=cv2.FONT_HERSHEY_DUPLEX, fontScale=0.7,\n",
    "                color=(0, 255, 0))\n",
    "    cv2.imshow('Option 1', bg)\n",
    "\n",
    "    timer += 1\n",
    "    if cv2.waitKey(30) & 0xff == ord('q'):\n",
    "        break\n",
    "\n",
    "# cap.release()\n",
    "cv2.destroyAllWindows()\n",
    "print(ccc)"
   ]
  },
  {
   "cell_type": "code",
   "execution_count": 13,
   "metadata": {},
   "outputs": [
    {
     "name": "stdout",
     "output_type": "stream",
     "text": [
      "[]\n",
      ".............\n",
      "[]\n"
     ]
    }
   ],
   "source": []
  },
  {
   "cell_type": "code",
   "execution_count": 18,
   "metadata": {},
   "outputs": [
    {
     "name": "stdout",
     "output_type": "stream",
     "text": [
      "No more frames to be loaded\n"
     ]
    }
   ],
   "source": [
    "# output video\n",
    "frame_load_path = './testzz/'\n",
    "path_to_output_video = './result.mov'\n",
    "out = cv2.VideoWriter(path_to_output_video, cv2.VideoWriter_fourcc('M', 'J', 'P', 'G'), 30,\n",
    "                      (int(568), int(320)))\n",
    "frame_counter = 0\n",
    "while (1):\n",
    "    img = cv2.imread(frame_load_path + 'composite%d.tif' % frame_counter)\n",
    "    #     print(img)\n",
    "    if img is None:\n",
    "        print('No more frames to be loaded')\n",
    "        break\n",
    "\n",
    "    out.write(img)\n",
    "    frame_counter += 1\n",
    "out.release()\n",
    "cv2.destroyAllWindows()"
   ]
  },
  {
   "cell_type": "code",
   "execution_count": 184,
   "metadata": {},
   "outputs": [
    {
     "name": "stdout",
     "output_type": "stream",
     "text": [
      "945\n"
     ]
    }
   ],
   "source": []
  },
  {
   "cell_type": "code",
   "execution_count": 185,
   "metadata": {},
   "outputs": [
    {
     "name": "stdout",
     "output_type": "stream",
     "text": [
      "[[68, 278], [108, 235], [108, 280], [228, 264], [268, 216]]\n",
      "[[95, 280], [149, 263], [235, 230]]\n",
      "[]\n"
     ]
    }
   ],
   "source": []
  },
  {
   "cell_type": "code",
   "execution_count": 314,
   "metadata": {},
   "outputs": [
    {
     "ename": "IndexError",
     "evalue": "index 380 is out of bounds for axis 0 with size 320",
     "output_type": "error",
     "traceback": [
      "\u001b[1;31m---------------------------------------------------------------------------\u001b[0m",
      "\u001b[1;31mIndexError\u001b[0m                                Traceback (most recent call last)",
      "\u001b[1;32m<ipython-input-314-182b1f02a8e4>\u001b[0m in \u001b[0;36m<module>\u001b[1;34m\u001b[0m\n\u001b[0;32m     17\u001b[0m         \u001b[1;32mif\u001b[0m \u001b[0mx\u001b[0m \u001b[1;33m+\u001b[0m \u001b[0mxx\u001b[0m  \u001b[1;33m<\u001b[0m \u001b[0mm\u001b[0m\u001b[1;33m.\u001b[0m\u001b[0mshape\u001b[0m\u001b[1;33m[\u001b[0m\u001b[1;36m0\u001b[0m\u001b[1;33m]\u001b[0m \u001b[1;32mand\u001b[0m \u001b[0my\u001b[0m \u001b[1;33m+\u001b[0m \u001b[0myy\u001b[0m  \u001b[1;33m<\u001b[0m \u001b[0mm\u001b[0m\u001b[1;33m.\u001b[0m\u001b[0mshape\u001b[0m\u001b[1;33m[\u001b[0m\u001b[1;36m1\u001b[0m\u001b[1;33m]\u001b[0m\u001b[1;33m:\u001b[0m\u001b[1;33m\u001b[0m\u001b[1;33m\u001b[0m\u001b[0m\n\u001b[0;32m     18\u001b[0m \u001b[1;31m#                     if\u001b[0m\u001b[1;33m\u001b[0m\u001b[1;33m\u001b[0m\u001b[1;33m\u001b[0m\u001b[0m\n\u001b[1;32m---> 19\u001b[1;33m             \u001b[1;32mif\u001b[0m \u001b[0mboy\u001b[0m\u001b[1;33m[\u001b[0m\u001b[0mx\u001b[0m\u001b[1;33m+\u001b[0m\u001b[1;36m380\u001b[0m\u001b[1;33m,\u001b[0m\u001b[0my\u001b[0m\u001b[1;33m+\u001b[0m\u001b[1;36m220\u001b[0m\u001b[1;33m,\u001b[0m\u001b[1;36m0\u001b[0m\u001b[1;33m]\u001b[0m \u001b[1;33m!=\u001b[0m \u001b[1;36m255\u001b[0m \u001b[1;32mand\u001b[0m \u001b[0mboy\u001b[0m\u001b[1;33m[\u001b[0m\u001b[0mx\u001b[0m\u001b[1;33m+\u001b[0m\u001b[1;36m380\u001b[0m\u001b[1;33m,\u001b[0m\u001b[0my\u001b[0m\u001b[1;33m+\u001b[0m\u001b[1;36m220\u001b[0m\u001b[1;33m,\u001b[0m\u001b[1;36m1\u001b[0m\u001b[1;33m]\u001b[0m \u001b[1;33m!=\u001b[0m \u001b[1;36m255\u001b[0m \u001b[1;32mand\u001b[0m \u001b[0mboy\u001b[0m\u001b[1;33m[\u001b[0m\u001b[0mx\u001b[0m\u001b[1;33m+\u001b[0m\u001b[1;36m380\u001b[0m\u001b[1;33m,\u001b[0m\u001b[0my\u001b[0m\u001b[1;33m+\u001b[0m\u001b[1;36m220\u001b[0m\u001b[1;33m,\u001b[0m\u001b[1;36m2\u001b[0m\u001b[1;33m]\u001b[0m \u001b[1;33m!=\u001b[0m \u001b[1;36m255\u001b[0m \u001b[1;33m:\u001b[0m\u001b[1;33m\u001b[0m\u001b[1;33m\u001b[0m\u001b[0m\n\u001b[0m\u001b[0;32m     20\u001b[0m                 \u001b[0mm\u001b[0m\u001b[1;33m[\u001b[0m\u001b[0mx\u001b[0m\u001b[1;33m+\u001b[0m\u001b[0mxx\u001b[0m\u001b[1;33m,\u001b[0m\u001b[0my\u001b[0m\u001b[1;33m+\u001b[0m\u001b[0myy\u001b[0m\u001b[1;33m]\u001b[0m \u001b[1;33m=\u001b[0m \u001b[0mboy\u001b[0m\u001b[1;33m[\u001b[0m\u001b[0mx\u001b[0m\u001b[1;33m+\u001b[0m\u001b[1;36m380\u001b[0m\u001b[1;33m,\u001b[0m\u001b[0my\u001b[0m\u001b[1;33m+\u001b[0m\u001b[1;36m220\u001b[0m\u001b[1;33m]\u001b[0m\u001b[1;33m\u001b[0m\u001b[1;33m\u001b[0m\u001b[0m\n\u001b[0;32m     21\u001b[0m \u001b[1;33m\u001b[0m\u001b[0m\n",
      "\u001b[1;31mIndexError\u001b[0m: index 380 is out of bounds for axis 0 with size 320"
     ]
    }
   ],
   "source": []
  },
  {
   "cell_type": "code",
   "execution_count": 326,
   "metadata": {},
   "outputs": [
    {
     "ename": "IndexError",
     "evalue": "index 900 is out of bounds for axis 1 with size 900",
     "output_type": "error",
     "traceback": [
      "\u001b[1;31m---------------------------------------------------------------------------\u001b[0m",
      "\u001b[1;31mIndexError\u001b[0m                                Traceback (most recent call last)",
      "\u001b[1;32m<ipython-input-326-b9525fc939a0>\u001b[0m in \u001b[0;36m<module>\u001b[1;34m\u001b[0m\n\u001b[0;32m     54\u001b[0m             \u001b[1;32mfor\u001b[0m \u001b[0my\u001b[0m \u001b[1;32min\u001b[0m \u001b[0mrange\u001b[0m\u001b[1;33m(\u001b[0m\u001b[1;36m680\u001b[0m\u001b[1;33m)\u001b[0m\u001b[1;33m:\u001b[0m\u001b[1;33m\u001b[0m\u001b[1;33m\u001b[0m\u001b[0m\n\u001b[0;32m     55\u001b[0m                 \u001b[1;32mif\u001b[0m \u001b[0mx\u001b[0m \u001b[1;33m+\u001b[0m \u001b[0mxx\u001b[0m  \u001b[1;33m<\u001b[0m \u001b[0mm\u001b[0m\u001b[1;33m.\u001b[0m\u001b[0mshape\u001b[0m\u001b[1;33m[\u001b[0m\u001b[1;36m0\u001b[0m\u001b[1;33m]\u001b[0m \u001b[1;32mand\u001b[0m \u001b[0my\u001b[0m \u001b[1;33m+\u001b[0m \u001b[0myy\u001b[0m  \u001b[1;33m<\u001b[0m \u001b[0mm\u001b[0m\u001b[1;33m.\u001b[0m\u001b[0mshape\u001b[0m\u001b[1;33m[\u001b[0m\u001b[1;36m1\u001b[0m\u001b[1;33m]\u001b[0m\u001b[1;33m:\u001b[0m\u001b[1;33m\u001b[0m\u001b[1;33m\u001b[0m\u001b[0m\n\u001b[1;32m---> 56\u001b[1;33m                     \u001b[1;32mif\u001b[0m \u001b[0mboy\u001b[0m\u001b[1;33m[\u001b[0m\u001b[0mx\u001b[0m\u001b[1;33m+\u001b[0m\u001b[1;36m310\u001b[0m\u001b[1;33m,\u001b[0m\u001b[0my\u001b[0m\u001b[1;33m+\u001b[0m\u001b[1;36m525\u001b[0m\u001b[1;33m,\u001b[0m\u001b[1;36m0\u001b[0m\u001b[1;33m]\u001b[0m \u001b[1;33m!=\u001b[0m \u001b[1;36m255\u001b[0m \u001b[1;32mand\u001b[0m \u001b[0mboy\u001b[0m\u001b[1;33m[\u001b[0m\u001b[0mx\u001b[0m\u001b[1;33m+\u001b[0m\u001b[1;36m310\u001b[0m\u001b[1;33m,\u001b[0m\u001b[0my\u001b[0m\u001b[1;33m+\u001b[0m\u001b[1;36m525\u001b[0m\u001b[1;33m,\u001b[0m\u001b[1;36m1\u001b[0m\u001b[1;33m]\u001b[0m \u001b[1;33m!=\u001b[0m \u001b[1;36m255\u001b[0m \u001b[1;32mand\u001b[0m \u001b[0mboy\u001b[0m\u001b[1;33m[\u001b[0m\u001b[0mx\u001b[0m\u001b[1;33m+\u001b[0m\u001b[1;36m310\u001b[0m\u001b[1;33m,\u001b[0m\u001b[0my\u001b[0m\u001b[1;33m+\u001b[0m\u001b[1;36m525\u001b[0m\u001b[1;33m,\u001b[0m\u001b[1;36m2\u001b[0m\u001b[1;33m]\u001b[0m \u001b[1;33m!=\u001b[0m \u001b[1;36m255\u001b[0m \u001b[1;33m:\u001b[0m\u001b[1;33m\u001b[0m\u001b[1;33m\u001b[0m\u001b[0m\n\u001b[0m\u001b[0;32m     57\u001b[0m                         \u001b[0mm\u001b[0m\u001b[1;33m[\u001b[0m\u001b[0mx\u001b[0m\u001b[1;33m+\u001b[0m\u001b[0mxx\u001b[0m\u001b[1;33m,\u001b[0m\u001b[0my\u001b[0m\u001b[1;33m+\u001b[0m\u001b[0myy\u001b[0m\u001b[1;33m]\u001b[0m \u001b[1;33m=\u001b[0m \u001b[0mboy\u001b[0m\u001b[1;33m[\u001b[0m\u001b[0mx\u001b[0m\u001b[1;33m+\u001b[0m\u001b[1;36m310\u001b[0m\u001b[1;33m,\u001b[0m\u001b[0my\u001b[0m\u001b[1;33m+\u001b[0m\u001b[1;36m525\u001b[0m\u001b[1;33m]\u001b[0m\u001b[1;33m\u001b[0m\u001b[1;33m\u001b[0m\u001b[0m\n\u001b[0;32m     58\u001b[0m \u001b[1;33m\u001b[0m\u001b[0m\n",
      "\u001b[1;31mIndexError\u001b[0m: index 900 is out of bounds for axis 1 with size 900"
     ]
    }
   ],
   "source": []
  },
  {
   "cell_type": "code",
   "execution_count": null,
   "metadata": {},
   "outputs": [],
   "source": []
  }
 ],
 "metadata": {
  "kernelspec": {
   "display_name": "Python 3",
   "language": "python",
   "name": "python3"
  },
  "language_info": {
   "codemirror_mode": {
    "name": "ipython",
    "version": 3
   },
   "file_extension": ".py",
   "mimetype": "text/x-python",
   "name": "python",
   "nbconvert_exporter": "python",
   "pygments_lexer": "ipython3",
   "version": "3.8.3"
  }
 },
 "nbformat": 4,
 "nbformat_minor": 4
}
